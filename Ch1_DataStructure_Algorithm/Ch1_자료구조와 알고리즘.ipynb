{
 "cells": [
  {
   "cell_type": "markdown",
   "metadata": {},
   "source": [
    "# 1.1 일상생활과 자료구조의 비교 \n",
    "img_example_algorithm\n",
    "\n",
    "img_example_algorithm"
   ]
  },
  {
   "cell_type": "markdown",
   "metadata": {},
   "source": [
    "<br>"
   ]
  },
  {
   "cell_type": "markdown",
   "metadata": {},
   "source": [
    "# 1.2 자료구조와 알고리즘\n",
    "* 프로그램 : **자료구조** + **알고리즘**\n",
    "* 자료구조 : 데이터 저장\n",
    "* 알고리즘 : 프로그램 이벤트 단계적 처리 절차\n",
    "* 즉, 프로그램은 자료구조를 통해 데이터를 저장하고 user의 요청에 따라 발생된 이벤틀를 알고리즘을 통해 처리한다.<br><br>\n",
    "* 그림 ex) 시험 점수 처리\n",
    "\n",
    "img_program_is<br><br>\n",
    "자료구조 : 배열 scores\n",
    "알고리즘 : 배열 요소 값들을 하나 씩 가장 높은 시험 점수 찾기"
   ]
  },
  {
   "cell_type": "markdown",
   "metadata": {},
   "source": [
    "<br>"
   ]
  },
  {
   "cell_type": "markdown",
   "metadata": {},
   "source": [
    "# 1.3 알고리즘의 조건\n",
    "* 입력 : 0개 이상의 입력이 존재해야 한다.\n",
    "* 출력 : 1개 이상의 출력이 존재해야 한다.\n",
    "* 명백성 : 각 명령어의 의미는 모호하지 않고 명확해야한다.\n",
    "* 유한성 : 한정된 수의 단계 후에는 반드시 종료되어야 한다.\n",
    "* 유효성 : 각 명령어들은 실행 가능한 연산이어야한다."
   ]
  },
  {
   "cell_type": "markdown",
   "metadata": {},
   "source": [
    "<br>"
   ]
  },
  {
   "cell_type": "markdown",
   "metadata": {},
   "source": [
    "# 1.4 알고리즘\n",
    "* 컴퓨터로 문제를 풀기위한 단계적인 절차\n",
    "* ex) 전화번호부에서 특정 인물 찾기<br>\n",
    "img_example_phonebook"
   ]
  },
  {
   "cell_type": "markdown",
   "metadata": {},
   "source": [
    "## 1.4.1 해결 방법\n",
    "* 전화번호부 처음부터 끝까지 검색\n",
    "* 전화번호부가 오름차순 혹은 내림차순으로 정렬되어 있다는 가정 하에 처음이 아닌 중간부터 검색"
   ]
  },
  {
   "cell_type": "markdown",
   "metadata": {},
   "source": [
    "## 1.4.2 알고리즘의 기술 방법 \n",
    "* 영어나 한국어와 같은 자연어\n",
    "* 흐름도(flow chart)\n",
    "* 의사 코드(=유사코드, pseudo-code)\n",
    "* 프로그래밍 언어"
   ]
  },
  {
   "cell_type": "markdown",
   "metadata": {},
   "source": [
    "### 1.4.2.1 자연어로 표기된 알고리즘\n",
    "* 인간이 읽기 쉽다.\n",
    "* 그러나 자연어의 단어들을 정확하게 정의하지 않으면 의미 전달이 모호해질 우려가 있다.\n",
    "* ex) 배열에서 최대값 찾기 알고리즘<br>\n",
    "img_ex_maxvalue_algorithm"
   ]
  },
  {
   "cell_type": "markdown",
   "metadata": {},
   "source": [
    "### 1.4.2.2 흐름도로 표기된 알고리즘\n",
    "* 직관적이고 이해하기 쉬운 알고리즘 기술 방법\n",
    "* 그러나 복잡한 알고리즘의 경우, 상당히 복잡해짐.<br>\n",
    "img_ex_flow_chart"
   ]
  },
  {
   "cell_type": "markdown",
   "metadata": {},
   "source": [
    "### 1.4.2.3 유사코드로 표현된 알고리즘\n",
    "* 알고리즘 기술에 가장 많이 사용.\n",
    "* 프로그램을 구현할 때의 여러가지 문제들을 감출 수 있다. 즉, 알고리즘의 핵심적인 내용에만 집중할 수 있다.\n",
    "* 대입 연산자(=) 대신 화살표(<-)를 활용한다는 차이점.<br>\n",
    "img_ex_pseudo_code"
   ]
  },
  {
   "cell_type": "markdown",
   "metadata": {},
   "source": [
    "### 1.4.2.4 프로그래밍 언어로 표현된 알고리즘\n",
    "* 알고리즘의 가장 정확한 기술이 가능\n",
    "* 그러나, 실제 구현 시 많은 구체적인 사항들이 알고리즘의 핵심적인 내용에 대한 이해를 방해할 수 있다.<br>\n",
    "img_ex_algorithm_by_c"
   ]
  },
  {
   "cell_type": "markdown",
   "metadata": {},
   "source": [
    "<br>"
   ]
  },
  {
   "cell_type": "markdown",
   "metadata": {},
   "source": [
    "# 1.5 자료형\n",
    "* 데이터의 종류\n",
    "* 정수, 실수, 문자열 등\n",
    "<br>\n",
    "img_data_type"
   ]
  },
  {
   "cell_type": "markdown",
   "metadata": {},
   "source": [
    "## 1.5.1 자료형\n",
    "* 데이터의 자료형 결정에 있어서 데이터 간에 연산 가능 여부도 고려해야한다.<br>\n",
    "img_data_type2"
   ]
  },
  {
   "cell_type": "markdown",
   "metadata": {},
   "source": [
    "## 1.5.2 추상 데이터 타입(ADT : Abstract Data Type)\n",
    "* 데이터 타입을 추상적(수학적)으로 정의한 것\n",
    "* 데이터나 연산이 **무엇(what)** 인가는 정의되지만 데이터나 연산을 **어떻게(how)** 컴퓨터 상에서 구현할 것인지는 정의되지 않는다.\n",
    "* 추상 데이터 타입의 구성\n",
    "    1. 객체 : 추상 데이터 타입에 속하는 객체가 정의된다.\n",
    "    2. 함수(=연산) : 이들 객체들 사이의 연산이 정의된다. 이 연산은 추상 데이터 타입과 외부를 연결하는 **인터페이스 역할**을 한다."
   ]
  },
  {
   "cell_type": "markdown",
   "metadata": {},
   "source": [
    "### 1.5.2.1 추상 데이터 타입의 예 : 자연수\n",
    "img_adt_natNum"
   ]
  },
  {
   "cell_type": "markdown",
   "metadata": {},
   "source": [
    "### 1.5.2.2 추상 데이터 타입의 예 : TV(인터페이스 역할)\n",
    "img_adt_tv\n",
    "* user는 TV의 인터페이스가 제공하는 특정한 작업만을 할 수 있다.\n",
    "* user는 ADT가 제공하는 연산만을 사용할 수 있다.<br>\n",
    "<br>\n",
    "* user는 TV의 내부를 볼 수 없고, 내부에서 무엇이 일어나고 있는지 몰라도 이용할 수 있다.\n",
    "* user는 ADT 내부의 데이터에 접근할 수 없고, ADT가 어떻게 구현되었는지 모르더라도 ADT를 사용할 수 있다."
   ]
  },
  {
   "cell_type": "markdown",
   "metadata": {},
   "source": [
    "<br>"
   ]
  },
  {
   "cell_type": "markdown",
   "metadata": {},
   "source": [
    "# 1.6 알고리즘의 성능(=효율성)분석 "
   ]
  },
  {
   "cell_type": "markdown",
   "metadata": {},
   "source": [
    "## 1.6.1 알고리즘의 성능 분석 기법\n",
    "1. **수행 시간 측정**\n",
    "    * 두 개의 알고리즘의 실제 수행 시간을 측정하여 성능 비교\n",
    "    * 실제로 구현하는 것이 필요\n",
    "    * 동일한 하드웨어 조건에서 비교해야 함.\n",
    "2. **알고리즘의 복잡도 분석**\n",
    "    * 직접 구현하지 않고 수행 시간을 분석하는 것\n",
    "    * **알고리즘을 이루는 연산의 수행 횟수를 측정하여 비교**\n",
    "    * 일반적으로 연산의 횟수는 n의 함수"
   ]
  },
  {
   "cell_type": "markdown",
   "metadata": {},
   "source": [
    "## 1.6.2 왜 프로그램의 효율성이 중요한가?\n",
    "* 시간 단축\n",
    "* 시스템 자원 절약\n",
    "\n",
    "img_why_efficiency"
   ]
  },
  {
   "cell_type": "markdown",
   "metadata": {},
   "source": [
    "## 1.6.3 수행시간 측정\n",
    "* 알고리즘을 프로그래밍 언어로 작성하여 실제 컴퓨터 상에서 실행시킨 다음, 그 수행시간 측정 비교\n",
    "\n",
    "img_time_compare"
   ]
  },
  {
   "cell_type": "markdown",
   "metadata": {},
   "source": [
    "### 1.6.3.1  수행시간 측정 2가지 방법\n",
    "img_how_time_compare"
   ]
  },
  {
   "cell_type": "markdown",
   "metadata": {},
   "source": [
    "### 1.6.3.2 ex)  수행시간 측정 방법1\n",
    "img_ex_time_compare"
   ]
  },
  {
   "cell_type": "markdown",
   "metadata": {},
   "source": [
    "## 1.6.4 복잡도 분석\n",
    "* 코드 구현없이 성능 분석\n",
    "* 시간 복잡도는 알고리즘을 이루고 있는 연산들이 몇 번이나 수행되는지, 코드 문장들이 몇 번이나 실행되는지를 숫자로 표시\n",
    "* 종류\n",
    "    1. **시간 복잡도(time complexity)** : 알고리즘 수행시간 분석. 정확히는 **알고리즘을 이루고 있는 연산의 수행 횟수 측정**.\n",
    "    \n",
    "img_ex_time_complexity\n",
    "    \n",
    "    2. 공간 복잡도(space complexity) : 알고리즘이 사용하는 메모리 공간 분석\n",
    "\n",
    "img_complexity_compare"
   ]
  },
  {
   "cell_type": "markdown",
   "metadata": {},
   "source": [
    "### 1.6.4.1 시간 복잡도와 입력(input, n)의 개수\n",
    "* 시간복잡도, 그러니까 알고리즘을 이루고 있는 연산의 수행 횟수는 알고리즘 내에 입력(input)의 개수인 **n**의 개수에 영향을 받는다.\n",
    "* 연산의 수행 횟수는 고정된 숫자가 아니면 n에 대한 함수가 된다.\n",
    "* 연산 수행 횟수를 입력의 개수 n의 함수로 나타낸 것을 **시간 복잡도 함수 T(n)**이라고 표기한다.\n",
    "\n",
    "img_time_compare_Tn"
   ]
  },
  {
   "cell_type": "code",
   "execution_count": null,
   "metadata": {},
   "outputs": [],
   "source": []
  }
 ],
 "metadata": {
  "kernelspec": {
   "display_name": "Python 3",
   "language": "python",
   "name": "python3"
  },
  "language_info": {
   "codemirror_mode": {
    "name": "ipython",
    "version": 3
   },
   "file_extension": ".py",
   "mimetype": "text/x-python",
   "name": "python",
   "nbconvert_exporter": "python",
   "pygments_lexer": "ipython3",
   "version": "3.8.5"
  }
 },
 "nbformat": 4,
 "nbformat_minor": 4
}
